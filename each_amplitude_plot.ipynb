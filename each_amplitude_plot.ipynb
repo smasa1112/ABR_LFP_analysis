{
 "cells": [
  {
   "cell_type": "code",
   "execution_count": null,
   "metadata": {},
   "outputs": [],
   "source": [
    "import numpy as np\n",
    "import pandas as pd\n",
    "from pathlib import Path\n",
    "import os\n",
    "import scipy\n",
    "from scipy import stats\n",
    "from matplotlib import pyplot as plt\n",
    "# loading original module\n",
    "import NeuroProcessing\n",
    "import re"
   ]
  },
  {
   "cell_type": "code",
   "execution_count": null,
   "metadata": {},
   "outputs": [],
   "source": [
    "#abr_lfpのz_scoreを収集する\n",
    "deaf_files_path = Path(\"./deaf_datas\")\n",
    "deaf_files = list(deaf_files_path.glob(\"*\"))\n",
    "intact_files_path = Path(\"./intact_datas/\")\n",
    "intact_files = list(intact_files_path.glob(\"*\"))\n",
    "#pdのファイルの結合\n",
    "deaf_datas = pd.concat([pd.read_csv(deaf_file) for deaf_file in deaf_files])\n",
    "intact_datas = pd.concat([pd.read_csv(intact_file) for intact_file in intact_files])\n",
    "deaf_datas = deaf_datas.dropna()\n",
    "intact_datas = intact_datas.dropna()"
   ]
  },
  {
   "cell_type": "code",
   "execution_count": null,
   "metadata": {},
   "outputs": [],
   "source": [
    "alive_deaf_data = deaf_datas.loc[~(deaf_datas[\"filename\"].str.contains(\"overdose\"))]\n",
    "alive_intact_data = intact_datas.loc[~(intact_datas[\"filename\"].str.contains(\"overdose\"))]\n",
    "alive_deaf_data = alive_deaf_data.loc[~(alive_deaf_data[\"stim_params\"].str.contains(\"(?:200V|prf|300V|75V|70dB)\"))]\n",
    "alive_intact_data = alive_intact_data.loc[~(alive_intact_data[\"stim_params\"].str.contains(\"(?:200V|prf|300V|75V|70dB)\"))]\n",
    "alive_deaf_data = alive_deaf_data.sort_values(\"stim_params\")\n",
    "alive_intact_data = alive_intact_data.sort_values(\"stim_params\")\n",
    "deaf_each_stim_data = alive_deaf_data.groupby(by=[\"stim_params\"])\n",
    "intact_each_stim_data = alive_intact_data.groupby(by = [\"stim_params\"])"
   ]
  },
  {
   "cell_type": "code",
   "execution_count": null,
   "metadata": {},
   "outputs": [],
   "source": [
    "intact_each_stim_data.mean(numeric_only=True)\n",
    "stim_parameters = alive_deaf_data.columns[3:]\n",
    "depths = range(100,900,100)\n",
    "#abr_z_scoreと各lfp_z_scoreの関係を散布図にプロット\n",
    "abr_intact_mean = intact_each_stim_data.mean(numeric_only=True)[\"abr_z_score\"]\n",
    "abr_intact_std = intact_each_stim_data.std(numeric_only=True)[\"abr_z_score\"]\n",
    "abr_intact_err = abr_intact_std/np.sqrt(intact_each_stim_data.size())\n",
    "abr_deaf_mean = deaf_each_stim_data.mean(numeric_only=True)[\"abr_z_score\"]\n",
    "abr_deaf_std = deaf_each_stim_data.std(numeric_only=True)[\"abr_z_score\"]\n",
    "abr_deaf_err = abr_deaf_std/np.sqrt(intact_each_stim_data.size())\n",
    "    "
   ]
  }
 ],
 "metadata": {
  "kernelspec": {
   "display_name": "base",
   "language": "python",
   "name": "python3"
  },
  "language_info": {
   "name": "python",
   "version": "3.9.7"
  },
  "orig_nbformat": 4,
  "vscode": {
   "interpreter": {
    "hash": "f240782c165d7154f28f83c3dd8dd293620c5492ef66704c3f90a6c3e6f9df5b"
   }
  }
 },
 "nbformat": 4,
 "nbformat_minor": 2
}
