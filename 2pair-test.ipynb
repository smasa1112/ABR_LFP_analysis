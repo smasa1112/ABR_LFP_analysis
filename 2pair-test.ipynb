{
 "cells": [
  {
   "cell_type": "code",
   "execution_count": null,
   "metadata": {},
   "outputs": [],
   "source": []
  }
 ],
 "metadata": {
  "kernelspec": {
   "display_name": "base",
   "language": "python",
   "name": "python3"
  },
  "language_info": {
   "name": "python",
   "version": "3.9.7 (default, Sep 16 2021, 16:59:28) [MSC v.1916 64 bit (AMD64)]"
  },
  "orig_nbformat": 4,
  "vscode": {
   "interpreter": {
    "hash": "f240782c165d7154f28f83c3dd8dd293620c5492ef66704c3f90a6c3e6f9df5b"
   }
  }
 },
 "nbformat": 4,
 "nbformat_minor": 2
}
