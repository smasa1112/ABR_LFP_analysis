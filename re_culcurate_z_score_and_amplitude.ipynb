{
 "cells": [
  {
   "cell_type": "code",
   "execution_count": 1,
   "metadata": {},
   "outputs": [],
   "source": [
    "import numpy as np\n",
    "import pandas as pd\n",
    "from pathlib import Path\n",
    "import os\n",
    "import scipy\n",
    "from scipy import stats\n",
    "from matplotlib import pyplot as plt\n",
    "# loading original module\n",
    "import NeuroProcessing\n",
    "import re"
   ]
  },
  {
   "cell_type": "code",
   "execution_count": 2,
   "metadata": {},
   "outputs": [],
   "source": [
    "deaf_pathes = [Path(\"D:/experiment/20221216_LFP_ABR_deaf\"),\n",
    "             Path(\"D:/experiment/20221012_LFP_ABR_deaf/\"),\n",
    "             Path(\"D:/experiment/20221118_LFP_ABR_deaf/\")]\n",
    "intact_pathes = [Path(\"D:/experiment/20221021_LFP_ABR/\"),\n",
    "                 Path(\"D:/experiment/20221125_LFP_ABR/\"),\n",
    "                 Path(\"F:/experiment/20220804_LFP_ABR/\"),\n",
    "                 Path(\"F:/experiment/20220819_LFP_ABR/\"),\n",
    "                 Path(\"F:/experiment/20220914_LFP_ABR/\")]"
   ]
  },
  {
   "cell_type": "code",
   "execution_count": 6,
   "metadata": {},
   "outputs": [],
   "source": [
    "plot_setting = NeuroProcessing.PlotSetting()\n",
    "cols = [\"date\",\"filename\",\"stim_params\",\"abr_z_score\",\"abr_latency\",\n",
    "        \"lfp_z_score_100\",\"lfp_latency_100\",\"lfp_ampliture_100\",\"lfp_z_score_200\",\"lfp_latency_200\",\"lfp_ampliture_200\",\n",
    "        \"lfp_z_score_300\",\"lfp_latency_300\",\"lfp_ampliture_300\",\"lfp_z_score_400\",\"lfp_latency_400\", \"lfp_ampliture_400\",\n",
    "        \"lfp_z_score_500\",\"lfp_latency_500\",\"lfp_ampliture_500\",\"lfp_z_score_600\",\"lfp_latency_600\",\"lfp_ampliture_600\",\n",
    "        \"lfp_z_score_700\",\"lfp_latency_700\",\"lfp_ampliture_700\",\"lfp_z_score_800\",\"lfp_latency_800\",\"lfp_ampliture_800\"]\n",
    "result_df=pd.DataFrame([],columns=cols)\n",
    "start_time_ms=-20\n",
    "p1_range=[1.0,4.0]\n",
    "lfp_range=[0,100]\n",
    "#青コネクタを使ったときのchannelmap\n",
    "plot_setting.channelmap=[9,8,10,7,13,4,12,5,15,2,16,1,14,3,11,6]\n",
    "start_lfp_time_ms=-50\n",
    "lfp_samplerate=1000\n",
    "lfp_samplerate_ms=lfp_samplerate//1000\n",
    "tdt_samplerate=25000\n",
    "tdt_samplerate_ms=tdt_samplerate//1000\n",
    "\n",
    "for each_path in list(deaf_pathes+intact_pathes):\n",
    "    cnt=0\n",
    "    tdt_dir_path = Path(os.path.join(each_path,\"TDT\"))\n",
    "    order_files_path = Path(os.path.join(each_path,\"abr_order\"))\n",
    "    tdt_files=list(tdt_dir_path.glob(\"*.csv\"))\n",
    "    order_files=list(order_files_path.glob(\"*.csv\"))\n",
    "    mat_dir_path=Path(os.path.join(each_path,\"mat\"))\n",
    "    mat_files=list(mat_dir_path.glob(\"*.mat\"))"
   ]
  },
  {
   "cell_type": "code",
   "execution_count": null,
   "metadata": {},
   "outputs": [],
   "source": []
  }
 ],
 "metadata": {
  "kernelspec": {
   "display_name": "base",
   "language": "python",
   "name": "python3"
  },
  "language_info": {
   "codemirror_mode": {
    "name": "ipython",
    "version": 3
   },
   "file_extension": ".py",
   "mimetype": "text/x-python",
   "name": "python",
   "nbconvert_exporter": "python",
   "pygments_lexer": "ipython3",
   "version": "3.9.7"
  },
  "orig_nbformat": 4,
  "vscode": {
   "interpreter": {
    "hash": "f240782c165d7154f28f83c3dd8dd293620c5492ef66704c3f90a6c3e6f9df5b"
   }
  }
 },
 "nbformat": 4,
 "nbformat_minor": 2
}
